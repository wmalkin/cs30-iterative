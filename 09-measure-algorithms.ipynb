{
 "cells": [
  {
   "cell_type": "markdown",
   "metadata": {},
   "source": [
    "# Measuring algorithm performance\n",
    "Measure the performance of different sort algorithms by counting compare and swap operations"
   ]
  },
  {
   "cell_type": "code",
   "execution_count": 7,
   "metadata": {},
   "outputs": [],
   "source": [
    "# Standard bubble sort algorithm\n",
    "def bubble_sort(items):\n",
    "    global compares, swaps\n",
    "    for i in range(len(items)-1, 0, -1):\n",
    "        for j in range(0, i):\n",
    "            compares += 1\n",
    "            if items[j] > items[j+1]:\n",
    "                swaps += 1\n",
    "                temp = items[j]\n",
    "                items[j] = items[j+1]\n",
    "                items[j+1] = temp"
   ]
  },
  {
   "cell_type": "code",
   "execution_count": 17,
   "metadata": {},
   "outputs": [],
   "source": [
    "# Standard selection sort algorithm\n",
    "def selection_sort(items):\n",
    "    global compares, swaps\n",
    "    for i in range(len(items)):\n",
    "        min_item = i\n",
    "        for j in range(i+1, len(items)):\n",
    "            compares += 1\n",
    "            if items[j] < items[min_item]:\n",
    "                min_item = j\n",
    "        if min_item != i:\n",
    "            swaps += 1\n",
    "            temp = items[i]\n",
    "            items[i] = items[min_item]\n",
    "            items[min_item] = temp"
   ]
  },
  {
   "cell_type": "code",
   "execution_count": 18,
   "metadata": {},
   "outputs": [],
   "source": [
    "# Standard insertion sort algorithm\n",
    "def insertion_sort(items):\n",
    "    global compares, swaps\n",
    "    for i in range(1, len(items)):\n",
    "        # remember which items we are sorting\n",
    "        thisItem = items[i]\n",
    "        # starting at the previous item, move everything forwards that is\n",
    "        # greater than the present item\n",
    "        j = i-1\n",
    "        while j >= 0 and items[j] > thisItem:\n",
    "            swaps += 1\n",
    "            items[j+1] = items[j]\n",
    "            j = j - 1\n",
    "        # put the present item in the correct place\n",
    "        items[j+1] = thisItem\n",
    "        compares += (i - j)\n",
    "        swaps += (i - j - 1)\n"
   ]
  },
  {
   "cell_type": "code",
   "execution_count": 4,
   "metadata": {},
   "outputs": [],
   "source": [
    "# Generate a list of 50 random numbers\n",
    "import random\n",
    "\n",
    "def randomInts(n):\n",
    "    nums = []\n",
    "    for i in range(n):\n",
    "        nums.append(random.randrange(1000))\n",
    "    return nums"
   ]
  },
  {
   "cell_type": "code",
   "execution_count": 28,
   "metadata": {},
   "outputs": [
    {
     "name": "stdout",
     "output_type": "stream",
     "text": [
      "bubble sort: 10 compares, 8 swaps\n",
      "selection sort: 10 compares, 4 swaps\n",
      "insertion sort: 12 compares, 16 swaps\n"
     ]
    }
   ],
   "source": [
    "# Generate some test data\n",
    "nums = randomInts(5)\n",
    "\n",
    "# Measure bubble sort performance\n",
    "swaps = 0\n",
    "compares = 0\n",
    "bubble_sort(list(nums))  # sort a clone so original list can be sorted again\n",
    "print(\"bubble sort: %d compares, %d swaps\" % (compares, swaps))\n",
    "\n",
    "# Measure selection sort performance\n",
    "swaps = 0\n",
    "compares = 0\n",
    "selection_sort(list(nums))  # sort a clone so original list can be sorted again\n",
    "print(\"selection sort: %d compares, %d swaps\" % (compares, swaps))\n",
    "\n",
    "# Measure insertion sort performance\n",
    "swaps = 0\n",
    "compares = 0\n",
    "insertion_sort(list(nums))  # sort a clone so original list can be sorted again\n",
    "print(\"insertion sort: %d compares, %d swaps\" % (compares, swaps))\n"
   ]
  },
  {
   "cell_type": "markdown",
   "metadata": {},
   "source": [
    "### How do these algorithms grow as the data size grows?\n",
    "\n",
    "### How do the compare vs. swap operations grow in each algorithm?\n",
    "\n",
    "### What could you suggest about the suitability of each algorithm for different data sets?\n"
   ]
  }
 ],
 "metadata": {
  "kernelspec": {
   "display_name": "Python 3",
   "language": "python",
   "name": "python3"
  },
  "language_info": {
   "codemirror_mode": {
    "name": "ipython",
    "version": 3
   },
   "file_extension": ".py",
   "mimetype": "text/x-python",
   "name": "python",
   "nbconvert_exporter": "python",
   "pygments_lexer": "ipython3",
   "version": "3.7.1"
  }
 },
 "nbformat": 4,
 "nbformat_minor": 2
}
