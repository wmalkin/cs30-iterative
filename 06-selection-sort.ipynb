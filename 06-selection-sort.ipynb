{
 "cells": [
  {
   "cell_type": "markdown",
   "metadata": {},
   "source": [
    "# Selection Sort\n",
    "Sort an array of 50 numbers"
   ]
  },
  {
   "cell_type": "code",
   "execution_count": 2,
   "metadata": {},
   "outputs": [],
   "source": [
    "# Generate a list of 50 random numbers\n",
    "import random\n",
    "\n",
    "def randomInts(n):\n",
    "    nums = []\n",
    "    for i in range(n):\n",
    "        nums.append(random.randrange(1000))\n",
    "    return nums"
   ]
  },
  {
   "cell_type": "code",
   "execution_count": 4,
   "metadata": {},
   "outputs": [],
   "source": [
    "# Standard selection sort algorithm\n",
    "def selection_sort(items):\n",
    "    for i in range(len(items)):\n",
    "        min_item = i\n",
    "        for j in range(i+1, len(items)):\n",
    "            if items[j] < items[min_item]:\n",
    "                min_item = j\n",
    "        if min_item != i:\n",
    "            temp = items[i]\n",
    "            items[i] = items[min_item]\n",
    "            items[min_item] = temp"
   ]
  },
  {
   "cell_type": "code",
   "execution_count": 7,
   "metadata": {},
   "outputs": [
    {
     "name": "stdout",
     "output_type": "stream",
     "text": [
      "Original:\n",
      "[424, 634, 99, 825, 329, 765, 13, 102, 469, 811, 586, 465, 858, 96, 174, 152, 165, 70, 122, 695, 668, 162, 407, 275, 99, 872, 378, 246, 317, 207, 823, 208, 452, 938, 696, 682, 694, 127, 205, 302, 853, 878, 904, 899, 42, 850, 372, 637, 478, 861]\n",
      "\n",
      "Sorted:\n",
      "[13, 42, 70, 96, 99, 99, 102, 122, 127, 152, 162, 165, 174, 205, 207, 208, 246, 275, 302, 317, 329, 372, 378, 407, 424, 452, 465, 469, 478, 586, 634, 637, 668, 682, 694, 695, 696, 765, 811, 823, 825, 850, 853, 858, 861, 872, 878, 899, 904, 938]\n"
     ]
    }
   ],
   "source": [
    "# test sort\n",
    "nums = randomInts(50)\n",
    "print(\"Original:\")\n",
    "print(nums)\n",
    "selection_sort(nums)\n",
    "print()\n",
    "print(\"Sorted:\")\n",
    "print(nums)"
   ]
  },
  {
   "cell_type": "code",
   "execution_count": 16,
   "metadata": {},
   "outputs": [],
   "source": [
    "# Modify the selection sort algorithm to sort in descending order\n",
    "def selection_sort_descending(items):\n",
    "    for i in range(len(items)):\n",
    "        min_item = i\n",
    "        for j in range(i+1, len(items)):\n",
    "            if items[j] < items[min_item]:\n",
    "                min_item = j\n",
    "        if min_item != i:\n",
    "            temp = items[i]\n",
    "            items[i] = items[min_item]\n",
    "            items[min_item] = temp"
   ]
  },
  {
   "cell_type": "code",
   "execution_count": 17,
   "metadata": {},
   "outputs": [
    {
     "name": "stdout",
     "output_type": "stream",
     "text": [
      "Original:\n",
      "[648, 80, 293, 861, 940, 87, 247, 118, 296, 529, 642, 235, 513, 752, 522, 779, 999, 826, 716, 189, 545, 259, 719, 410, 67, 796, 36, 441, 462, 167, 754, 394, 5, 485, 319, 92, 397, 582, 306, 727, 719, 146, 777, 193, 579, 380, 660, 792, 627, 959]\n",
      "\n",
      "Sorted:\n",
      "[5, 36, 67, 80, 87, 92, 118, 146, 167, 189, 193, 235, 247, 259, 293, 296, 306, 319, 380, 394, 397, 410, 441, 462, 485, 513, 522, 529, 545, 579, 582, 627, 642, 648, 660, 716, 719, 719, 727, 752, 754, 777, 779, 792, 796, 826, 861, 940, 959, 999]\n"
     ]
    }
   ],
   "source": [
    "# test sort\n",
    "nums = randomInts(50)\n",
    "print(\"Original:\")\n",
    "print(nums)\n",
    "selection_sort_descending(nums)\n",
    "print()\n",
    "print(\"Sorted:\")\n",
    "print(nums)"
   ]
  }
 ],
 "metadata": {
  "kernelspec": {
   "display_name": "Python 3",
   "language": "python",
   "name": "python3"
  },
  "language_info": {
   "codemirror_mode": {
    "name": "ipython",
    "version": 3
   },
   "file_extension": ".py",
   "mimetype": "text/x-python",
   "name": "python",
   "nbconvert_exporter": "python",
   "pygments_lexer": "ipython3",
   "version": "3.7.1"
  }
 },
 "nbformat": 4,
 "nbformat_minor": 2
}
