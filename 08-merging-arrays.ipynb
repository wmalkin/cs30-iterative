{
 "cells": [
  {
   "cell_type": "markdown",
   "metadata": {},
   "source": [
    "# Merging arrays\n",
    "1. Concatenate two unsorted arrays\n",
    "2. Merge two sorted arrays to produce a single, larger, still sorted array"
   ]
  },
  {
   "cell_type": "code",
   "execution_count": 2,
   "metadata": {},
   "outputs": [],
   "source": [
    "# Create two arrays of data, sort not important\n",
    "list1 = [1,5,4,7,4,5]\n",
    "list2 = [0,5,22,1,22,11,6,7,4]"
   ]
  },
  {
   "cell_type": "code",
   "execution_count": 4,
   "metadata": {},
   "outputs": [
    {
     "name": "stdout",
     "output_type": "stream",
     "text": [
      "[1, 5, 4, 7, 4, 5, 0, 5, 22, 1, 22, 11, 6, 7, 4]\n"
     ]
    }
   ],
   "source": [
    "# Combine the two arrays using simple loops\n",
    "list3 = []\n",
    "for item in list1:\n",
    "    list3.append(item)\n",
    "for item in list2:\n",
    "    list3.append(item)\n",
    "print(list3)"
   ]
  },
  {
   "cell_type": "code",
   "execution_count": 6,
   "metadata": {},
   "outputs": [],
   "source": [
    "# Create two sorted lists\n",
    "sorted1 = [2,5,6,8,11,13,22,25]\n",
    "sorted2 = [1,4,5,5,6,23,24,25,26]"
   ]
  },
  {
   "cell_type": "code",
   "execution_count": 8,
   "metadata": {},
   "outputs": [
    {
     "name": "stdout",
     "output_type": "stream",
     "text": [
      "[1, 2, 4, 5, 5, 5, 6, 6, 8, 11, 13, 22, 23, 24, 25, 25, 26]\n"
     ]
    }
   ],
   "source": [
    "# Merge the two sorted lists\n",
    "sorted3 = []\n",
    "i1 = 0   # current index into sorted1\n",
    "i2 = 0   # current index into sorted2\n",
    "\n",
    "# Continue until both (i1 is at end of sorted1) and (i2 is at end of sorted2)\n",
    "while (i1 < len(sorted1) or i2 < len(sorted2)):\n",
    "    # if sorted2 is exhausted, take from sorted1\n",
    "    if i2 == len(sorted2):\n",
    "        sorted3.append(sorted1[i1])\n",
    "        i1 += 1\n",
    "    # if sorted1 is exhausted, take from sorted2\n",
    "    elif i1 == len(sorted1):\n",
    "        sorted3.append(sorted2[i2])\n",
    "        i2 += 1\n",
    "    # if sorted1 value is smaller, take it\n",
    "    elif sorted1[i1] < sorted2[i2]:\n",
    "        sorted3.append(sorted1[i1])\n",
    "        i1 += 1\n",
    "    # otherwise sorted2 value is smaller, so take it\n",
    "    else:\n",
    "        sorted3.append(sorted2[i2])\n",
    "        i2 += 1\n",
    "print(sorted3)"
   ]
  }
 ],
 "metadata": {
  "kernelspec": {
   "display_name": "Python 3",
   "language": "python",
   "name": "python3"
  },
  "language_info": {
   "codemirror_mode": {
    "name": "ipython",
    "version": 3
   },
   "file_extension": ".py",
   "mimetype": "text/x-python",
   "name": "python",
   "nbconvert_exporter": "python",
   "pygments_lexer": "ipython3",
   "version": "3.7.1"
  }
 },
 "nbformat": 4,
 "nbformat_minor": 2
}
