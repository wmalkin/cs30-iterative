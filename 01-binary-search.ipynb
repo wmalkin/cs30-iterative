{
 "cells": [
  {
   "cell_type": "markdown",
   "metadata": {},
   "source": [
    "# Binary Search Algorithm\n",
    "Search an array of numbers\n",
    "\n",
    "* Whiteboard lesson: search complexity\n",
    "    * Basic linear search and O(n) complexity\n",
    "    * Binary search concept of partitioning and searching efficiently and O(logn) complexity\n",
    "    * Compare efficiency on 100 items, 100,000 items, 100,000,000 items\n",
    "* Whiteboard lesson: binary search algorithm\n",
    "    * Left, right, middle partitioning algorithm\n",
    "    * Detecting \"no match\" condition\n",
    "* Walk through Python code\n",
    "* Run tests\n",
    "* Assignment: parallel list\n",
    "* Whiteboard lesson: extensions to binary search\n",
    "    * Searching for first match\n",
    "    * Searching for last match\n",
    "    * Binary insertion algorithm"
   ]
  },
  {
   "cell_type": "code",
   "execution_count": 1,
   "metadata": {},
   "outputs": [],
   "source": [
    "# Initialize an array of numbers, pre-sorted\n",
    "nums = [12, 13, 32, 35, 46, 68, 71, 73, 88, 94, 99, 100]"
   ]
  },
  {
   "cell_type": "code",
   "execution_count": 2,
   "metadata": {},
   "outputs": [],
   "source": [
    "# Binary search algorithm\n",
    "def search(items, target):\n",
    "    left = 0\n",
    "    right = len(items) - 1\n",
    "    while left <= right:\n",
    "        mid = (left + right) // 2\n",
    "        if items[mid] == target:\n",
    "            return mid\n",
    "        if target < items[mid]:\n",
    "            right = mid - 1\n",
    "        else:\n",
    "            left = mid + 1\n",
    "    return -1\n"
   ]
  },
  {
   "cell_type": "code",
   "execution_count": 6,
   "metadata": {},
   "outputs": [
    {
     "name": "stdout",
     "output_type": "stream",
     "text": [
      "0\n",
      "1\n",
      "2\n",
      "3\n",
      "4\n",
      "5\n",
      "6\n",
      "7\n",
      "8\n",
      "9\n",
      "10\n",
      "11\n"
     ]
    }
   ],
   "source": [
    "# Test algorithm by searching for each element in turn\n",
    "for i in range(len(nums)):\n",
    "    print(search(nums, nums[i]))"
   ]
  },
  {
   "cell_type": "code",
   "execution_count": 7,
   "metadata": {
    "scrolled": true
   },
   "outputs": [
    {
     "name": "stdout",
     "output_type": "stream",
     "text": [
      "-1\n",
      "-1\n",
      "-1\n"
     ]
    }
   ],
   "source": [
    "# Test searching for an item that doesn't exit\n",
    "print(search(nums, 9))\n",
    "print(search(nums, 37))\n",
    "print(search(nums, 1000000))"
   ]
  },
  {
   "cell_type": "code",
   "execution_count": null,
   "metadata": {},
   "outputs": [],
   "source": [
    "# Add a second, parallel array with the names of Superheroes\n"
   ]
  },
  {
   "cell_type": "code",
   "execution_count": 8,
   "metadata": {},
   "outputs": [],
   "source": [
    "# Create a function that searches for a superhero by power level and returns\n",
    "# that hero's name, or \"None\" if no hero exists with that power level\n",
    "def findHero(power):\n",
    "    return \"None\""
   ]
  },
  {
   "cell_type": "code",
   "execution_count": 10,
   "metadata": {},
   "outputs": [
    {
     "name": "stdout",
     "output_type": "stream",
     "text": [
      "power: 9, hero: None\n",
      "power: 35, hero: None\n",
      "power: 99, hero: None\n",
      "power: 101, hero: None\n"
     ]
    }
   ],
   "source": [
    "# Search for a superhero by power level and print the name of that hero\n",
    "# If no hero exists, print \"No hero with that power level exists\"\n",
    "# Search cases: 9, 35, 99, 101\n",
    "print(\"power: 9, hero: \" + findHero(9))\n",
    "print(\"power: 35, hero: \" + findHero(35))\n",
    "print(\"power: 99, hero: \" + findHero(99))\n",
    "print(\"power: 101, hero: \" + findHero(101))"
   ]
  }
 ],
 "metadata": {
  "kernelspec": {
   "display_name": "Python 3",
   "language": "python",
   "name": "python3"
  },
  "language_info": {
   "codemirror_mode": {
    "name": "ipython",
    "version": 3
   },
   "file_extension": ".py",
   "mimetype": "text/x-python",
   "name": "python",
   "nbconvert_exporter": "python",
   "pygments_lexer": "ipython3",
   "version": "3.7.1"
  }
 },
 "nbformat": 4,
 "nbformat_minor": 2
}
