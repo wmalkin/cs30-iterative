{
 "cells": [
  {
   "cell_type": "markdown",
   "metadata": {},
   "source": [
    "# Bubble Sort - Parallel Lists\n",
    "Use bubble sort to sort three parallel lists using one list as the sort key."
   ]
  },
  {
   "cell_type": "code",
   "execution_count": 2,
   "metadata": {},
   "outputs": [],
   "source": [
    "# Create three parallel lists of the same length, where each list\n",
    "# contains a single attribute (names, ages, genders) and each element\n",
    "# contains the attributes for one person\n",
    "names = [\"Wayne\"]\n",
    "ages = [54]\n",
    "genders = [\"male\"]"
   ]
  },
  {
   "cell_type": "code",
   "execution_count": 6,
   "metadata": {},
   "outputs": [
    {
     "name": "stdout",
     "output_type": "stream",
     "text": [
      "Wayne, 54, male\n"
     ]
    }
   ],
   "source": [
    "# Print all the unsorted data\n",
    "for i in range(len(names)):\n",
    "    print(names[i] + \", \" + str(ages[i]) + \", \" + genders[i])\n"
   ]
  },
  {
   "cell_type": "code",
   "execution_count": 7,
   "metadata": {},
   "outputs": [],
   "source": [
    "# Modify the bubble sort algorithm to sort on name (ascending),\n",
    "# keeping all three lists synchronized\n"
   ]
  },
  {
   "cell_type": "code",
   "execution_count": 8,
   "metadata": {},
   "outputs": [],
   "source": [
    "# Modify the binary search algorithm to find an item by name, and\n",
    "# print all three attributes for the found item\n"
   ]
  },
  {
   "cell_type": "code",
   "execution_count": 9,
   "metadata": {},
   "outputs": [],
   "source": [
    "# Modify bubble sort again to sort on ages"
   ]
  },
  {
   "cell_type": "code",
   "execution_count": null,
   "metadata": {},
   "outputs": [],
   "source": [
    "# Print the entire list, in order of age"
   ]
  }
 ],
 "metadata": {
  "kernelspec": {
   "display_name": "Python 3",
   "language": "python",
   "name": "python3"
  },
  "language_info": {
   "codemirror_mode": {
    "name": "ipython",
    "version": 3
   },
   "file_extension": ".py",
   "mimetype": "text/x-python",
   "name": "python",
   "nbconvert_exporter": "python",
   "pygments_lexer": "ipython3",
   "version": "3.7.1"
  }
 },
 "nbformat": 4,
 "nbformat_minor": 2
}
