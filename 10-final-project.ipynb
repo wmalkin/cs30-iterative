{
 "cells": [
  {
   "cell_type": "markdown",
   "metadata": {},
   "source": [
    "# Final Project\n",
    "Musical Theatre Database"
   ]
  },
  {
   "cell_type": "code",
   "execution_count": 12,
   "metadata": {},
   "outputs": [],
   "source": [
    "# Define an object to contain musical theatre data\n",
    "class Musical:\n",
    "    def __init__(self, name, year, writers):\n",
    "        self.name = name\n",
    "        self.year = year\n",
    "        self.writers = writers\n",
    "    \n",
    "    # compare this musical to another musical, by name\n",
    "    # return True if this one is larger\n",
    "    def greater(self, other):\n",
    "        return self.name > other.name\n",
    "    \n",
    "    # print this musical on one line\n",
    "    def print(self):\n",
    "        print(\"%s, %d, %s\" % (self.name, self.year, self.writers))\n"
   ]
  },
  {
   "cell_type": "code",
   "execution_count": 13,
   "metadata": {},
   "outputs": [],
   "source": [
    "# Create a database of musicals\n",
    "musicals = []\n",
    "musicals.append(Musical(\"Wicked\", 2010, \"some dude\"))\n",
    "musicals.append(Musical(\"Hamilton\", 2015, \"Lynn Manuel Miranda\"))\n"
   ]
  },
  {
   "cell_type": "code",
   "execution_count": 16,
   "metadata": {},
   "outputs": [
    {
     "name": "stdout",
     "output_type": "stream",
     "text": [
      "Hamilton, 2015, Lynn Manuel Miranda\n",
      "Wicked, 2010, some dude\n"
     ]
    }
   ],
   "source": [
    "# print all musicals\n",
    "for m in musicals:\n",
    "    m.print()"
   ]
  },
  {
   "cell_type": "code",
   "execution_count": 15,
   "metadata": {},
   "outputs": [],
   "source": [
    "# Sort the musicals using one of the sort algorithms\n",
    "\n",
    "for i in range(len(musicals)-1, 0, -1):\n",
    "    for j in range(0, i):\n",
    "        if musicals[j].greater(musicals[j+1]):\n",
    "            temp = musicals[j]\n",
    "            musicals[j] = musicals[j+1]\n",
    "            musicals[j+1] = temp\n"
   ]
  },
  {
   "cell_type": "code",
   "execution_count": 17,
   "metadata": {},
   "outputs": [],
   "source": [
    "# Find a musical by name, using binary search algorithm\n",
    "\n"
   ]
  },
  {
   "cell_type": "code",
   "execution_count": 18,
   "metadata": {},
   "outputs": [],
   "source": [
    "# Delete a musical by dropping it from the list\n"
   ]
  },
  {
   "cell_type": "code",
   "execution_count": 19,
   "metadata": {},
   "outputs": [],
   "source": [
    "# Find a musical and change the year\n"
   ]
  },
  {
   "cell_type": "code",
   "execution_count": 20,
   "metadata": {},
   "outputs": [],
   "source": [
    "# Add a new musical, then re-sort the list\n"
   ]
  },
  {
   "cell_type": "code",
   "execution_count": 22,
   "metadata": {},
   "outputs": [],
   "source": [
    "# Create a Performance class which contains a performance date,\n",
    "# venue, and a musical to be performed\n",
    "class Performance:\n",
    "    def __init__(self, date, venue, showname):\n",
    "        self.date = date\n",
    "        self.venue = venue\n",
    "        self.musical = findMusical(showname)\n",
    "        \n",
    "    def print(self):\n",
    "        print(\"%s to be performed on %s at %s\" % (self.musical.name, self.date, self.venue))\n",
    "    "
   ]
  },
  {
   "cell_type": "code",
   "execution_count": null,
   "metadata": {},
   "outputs": [],
   "source": [
    "# Create a list of performances\n",
    "performances = []\n",
    "performances.append(Performance(\"2020-03-20\", \"Jubilee Auditorium\", \"Hamilton\"))"
   ]
  },
  {
   "cell_type": "code",
   "execution_count": null,
   "metadata": {},
   "outputs": [],
   "source": [
    "# Print performances\n",
    "for p in performances:\n",
    "    p.print()\n"
   ]
  }
 ],
 "metadata": {
  "kernelspec": {
   "display_name": "Python 3",
   "language": "python",
   "name": "python3"
  },
  "language_info": {
   "codemirror_mode": {
    "name": "ipython",
    "version": 3
   },
   "file_extension": ".py",
   "mimetype": "text/x-python",
   "name": "python",
   "nbconvert_exporter": "python",
   "pygments_lexer": "ipython3",
   "version": "3.7.1"
  }
 },
 "nbformat": 4,
 "nbformat_minor": 2
}
