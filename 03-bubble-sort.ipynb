{
 "cells": [
  {
   "cell_type": "markdown",
   "metadata": {},
   "source": [
    "# Bubble Sort\n",
    "Sort an array of 50 numbers"
   ]
  },
  {
   "cell_type": "code",
   "execution_count": 57,
   "metadata": {},
   "outputs": [],
   "source": [
    "# Generate a list of 50 random numbers\n",
    "import random\n",
    "\n",
    "def randomInts(n):\n",
    "    nums = []\n",
    "    for i in range(n):\n",
    "        nums.append(random.randrange(1000))\n",
    "    return nums"
   ]
  },
  {
   "cell_type": "code",
   "execution_count": 58,
   "metadata": {},
   "outputs": [],
   "source": [
    "# Standard bubble sort algorithm\n",
    "def bubble_sort(items):\n",
    "    for i in range(len(items)-1, 0, -1):\n",
    "        for j in range(0, i):\n",
    "            if items[j] > items[j+1]:\n",
    "                temp = items[j]\n",
    "                items[j] = items[j+1]\n",
    "                items[j+1] = temp"
   ]
  },
  {
   "cell_type": "code",
   "execution_count": 60,
   "metadata": {},
   "outputs": [
    {
     "name": "stdout",
     "output_type": "stream",
     "text": [
      "Original:\n",
      "[586, 880, 382, 394, 196, 101, 289, 672, 581, 966, 697, 907, 586, 879, 741, 565, 618, 330, 890, 339, 725, 932, 933, 281, 53, 511, 162, 793, 394, 141, 887, 715, 680, 661, 83, 977, 122, 726, 477, 437, 991, 624, 193, 464, 930, 941, 502, 403, 518, 249]\n",
      "\n",
      "Sorted:\n",
      "[53, 83, 101, 122, 141, 162, 193, 196, 249, 281, 289, 330, 339, 382, 394, 394, 403, 437, 464, 477, 502, 511, 518, 565, 581, 586, 586, 618, 624, 661, 672, 680, 697, 715, 725, 726, 741, 793, 879, 880, 887, 890, 907, 930, 932, 933, 941, 966, 977, 991]\n"
     ]
    }
   ],
   "source": [
    "# test sort\n",
    "nums = randomInts(50)\n",
    "print(\"Original:\")\n",
    "print(nums)\n",
    "bubble_sort(nums)\n",
    "print()\n",
    "print(\"Sorted:\")\n",
    "print(nums)"
   ]
  },
  {
   "cell_type": "code",
   "execution_count": 61,
   "metadata": {},
   "outputs": [],
   "source": [
    "# Modify the bubble sort algorithm to sort in descending order\n",
    "def bubble_sort_descending(items):\n",
    "    for i in range(len(items)-1, 0, -1):\n",
    "        for j in range(0, i):\n",
    "            if items[j] > items[j+1]:\n",
    "                temp = items[j]\n",
    "                items[j] = items[j+1]\n",
    "                items[j+1] = temp"
   ]
  },
  {
   "cell_type": "code",
   "execution_count": 62,
   "metadata": {},
   "outputs": [
    {
     "name": "stdout",
     "output_type": "stream",
     "text": [
      "Original:\n",
      "[447, 242, 816, 685, 41, 462, 72, 324, 24, 460, 629, 231, 767, 642, 527, 925, 665, 514, 219, 362, 63, 417, 694, 445, 78, 349, 287, 35, 182, 368, 851, 491, 585, 985, 271, 735, 471, 205, 571, 220, 808, 465, 498, 627, 212, 705, 396, 790, 155, 353]\n",
      "\n",
      "Sorted:\n",
      "[24, 35, 41, 63, 72, 78, 155, 182, 205, 212, 219, 220, 231, 242, 271, 287, 324, 349, 353, 362, 368, 396, 417, 445, 447, 460, 462, 465, 471, 491, 498, 514, 527, 571, 585, 627, 629, 642, 665, 685, 694, 705, 735, 767, 790, 808, 816, 851, 925, 985]\n"
     ]
    }
   ],
   "source": [
    "# test sort\n",
    "nums = randomInts(50)\n",
    "print(\"Original:\")\n",
    "print(nums)\n",
    "bubble_sort_descending(nums)\n",
    "print()\n",
    "print(\"Sorted:\")\n",
    "print(nums)"
   ]
  }
 ],
 "metadata": {
  "kernelspec": {
   "display_name": "Python 3",
   "language": "python",
   "name": "python3"
  },
  "language_info": {
   "codemirror_mode": {
    "name": "ipython",
    "version": 3
   },
   "file_extension": ".py",
   "mimetype": "text/x-python",
   "name": "python",
   "nbconvert_exporter": "python",
   "pygments_lexer": "ipython3",
   "version": "3.7.1"
  }
 },
 "nbformat": 4,
 "nbformat_minor": 2
}
