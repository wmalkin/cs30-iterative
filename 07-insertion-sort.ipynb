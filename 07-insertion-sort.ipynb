{
 "cells": [
  {
   "cell_type": "markdown",
   "metadata": {},
   "source": [
    "# Insertion Sort\n",
    "Sort an array of 50 numbers"
   ]
  },
  {
   "cell_type": "code",
   "execution_count": 1,
   "metadata": {},
   "outputs": [],
   "source": [
    "# Generate a list of 50 random numbers\n",
    "import random\n",
    "\n",
    "def randomInts(n):\n",
    "    nums = []\n",
    "    for i in range(n):\n",
    "        nums.append(random.randrange(1000))\n",
    "    return nums"
   ]
  },
  {
   "cell_type": "code",
   "execution_count": 2,
   "metadata": {},
   "outputs": [],
   "source": [
    "# Standard insertion sort algorithm\n",
    "def insertion_sort(items):\n",
    "    for i in range(1, len(items)):\n",
    "        # remember which items we are sorting\n",
    "        thisItem = items[i]\n",
    "        # starting at the previous item, move everything forwards that is\n",
    "        # greater than the present item\n",
    "        j = i-1\n",
    "        while j >= 0 and items[j] > thisItem:\n",
    "            items[j+1] = items[j]\n",
    "            j = j - 1\n",
    "        # put the present item in the correct place\n",
    "        items[j+1] = thisItem\n"
   ]
  },
  {
   "cell_type": "code",
   "execution_count": 4,
   "metadata": {},
   "outputs": [
    {
     "name": "stdout",
     "output_type": "stream",
     "text": [
      "Original:\n",
      "[0, 38, 918, 857, 763, 455, 727, 735, 692, 81, 570, 606, 604, 150, 844, 791, 660, 204, 41, 726, 123, 498, 359, 543, 593, 790, 118, 567, 264, 768, 671, 838, 882, 276, 179, 741, 461, 795, 390, 206, 596, 268, 11, 310, 316, 219, 384, 603, 313, 840]\n",
      "\n",
      "Sorted:\n",
      "[0, 11, 38, 41, 81, 118, 123, 150, 179, 204, 206, 219, 264, 268, 276, 310, 313, 316, 359, 384, 390, 455, 461, 498, 543, 567, 570, 593, 596, 603, 604, 606, 660, 671, 692, 726, 727, 735, 741, 763, 768, 790, 791, 795, 838, 840, 844, 857, 882, 918]\n"
     ]
    }
   ],
   "source": [
    "# test sort\n",
    "nums = randomInts(50)\n",
    "print(\"Original:\")\n",
    "print(nums)\n",
    "insertion_sort(nums)\n",
    "print()\n",
    "print(\"Sorted:\")\n",
    "print(nums)"
   ]
  },
  {
   "cell_type": "markdown",
   "metadata": {},
   "source": [
    "### Question: What type of data is an insertion sort good for?\n",
    "*double-click to edit, then put answer here*"
   ]
  }
 ],
 "metadata": {
  "kernelspec": {
   "display_name": "Python 3",
   "language": "python",
   "name": "python3"
  },
  "language_info": {
   "codemirror_mode": {
    "name": "ipython",
    "version": 3
   },
   "file_extension": ".py",
   "mimetype": "text/x-python",
   "name": "python",
   "nbconvert_exporter": "python",
   "pygments_lexer": "ipython3",
   "version": "3.7.1"
  }
 },
 "nbformat": 4,
 "nbformat_minor": 2
}
